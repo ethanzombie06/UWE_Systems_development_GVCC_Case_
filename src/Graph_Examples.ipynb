{
 "cells": [
  {
   "cell_type": "code",
   "execution_count": null,
   "id": "fe9a3f44",
   "metadata": {},
   "outputs": [],
   "source": [
    "import pandas, matplotlib as plt\n",
    "df = pandas.read_csv(\"data/BeamRepositoryDATA.csv\")\n",
    "\n",
    "df1 = df.sort_values(\"NestID\")\n",
    "df1.to_csv(\"data/BeamRepositoryDATASorted.csv\", index=False)"
   ]
  },
  {
   "cell_type": "code",
   "execution_count": 19,
   "id": "db459f0c",
   "metadata": {},
   "outputs": [
    {
     "name": "stdout",
     "output_type": "stream",
     "text": [
      "Unqiue item numbers: 8924\n",
      "Unqiue Nest Ids: 11477\n"
     ]
    }
   ],
   "source": [
    "print(f\"Unqiue item numbers: {df[\"ItemNumber\"].nunique()}\")\n",
    "print(f\"Unqiue Nest Ids: {df[\"NestID\"].nunique()}\")\n",
    "\n"
   ]
  },
  {
   "cell_type": "code",
   "execution_count": 20,
   "id": "a02bd7c7",
   "metadata": {},
   "outputs": [
    {
     "data": {
      "text/html": [
       "<div>\n",
       "<style scoped>\n",
       "    .dataframe tbody tr th:only-of-type {\n",
       "        vertical-align: middle;\n",
       "    }\n",
       "\n",
       "    .dataframe tbody tr th {\n",
       "        vertical-align: top;\n",
       "    }\n",
       "\n",
       "    .dataframe thead th {\n",
       "        text-align: right;\n",
       "    }\n",
       "</style>\n",
       "<table border=\"1\" class=\"dataframe\">\n",
       "  <thead>\n",
       "    <tr style=\"text-align: right;\">\n",
       "      <th></th>\n",
       "      <th>NestID</th>\n",
       "      <th>Length</th>\n",
       "      <th>TotalLength</th>\n",
       "      <th>ItemNumber</th>\n",
       "      <th>RemainingLength</th>\n",
       "    </tr>\n",
       "  </thead>\n",
       "  <tbody>\n",
       "    <tr>\n",
       "      <th>0</th>\n",
       "      <td>7872</td>\n",
       "      <td>486</td>\n",
       "      <td>4094</td>\n",
       "      <td>01846</td>\n",
       "      <td>0.0</td>\n",
       "    </tr>\n",
       "    <tr>\n",
       "      <th>1</th>\n",
       "      <td>7874</td>\n",
       "      <td>469</td>\n",
       "      <td>6000</td>\n",
       "      <td>01841</td>\n",
       "      <td>0.0</td>\n",
       "    </tr>\n",
       "    <tr>\n",
       "      <th>2</th>\n",
       "      <td>7880</td>\n",
       "      <td>493</td>\n",
       "      <td>5916</td>\n",
       "      <td>01838</td>\n",
       "      <td>84.0</td>\n",
       "    </tr>\n",
       "    <tr>\n",
       "      <th>3</th>\n",
       "      <td>7880</td>\n",
       "      <td>493</td>\n",
       "      <td>5916</td>\n",
       "      <td>01839</td>\n",
       "      <td>84.0</td>\n",
       "    </tr>\n",
       "    <tr>\n",
       "      <th>4</th>\n",
       "      <td>7880</td>\n",
       "      <td>493</td>\n",
       "      <td>5916</td>\n",
       "      <td>01842</td>\n",
       "      <td>84.0</td>\n",
       "    </tr>\n",
       "    <tr>\n",
       "      <th>...</th>\n",
       "      <td>...</td>\n",
       "      <td>...</td>\n",
       "      <td>...</td>\n",
       "      <td>...</td>\n",
       "      <td>...</td>\n",
       "    </tr>\n",
       "    <tr>\n",
       "      <th>53405</th>\n",
       "      <td>6294</td>\n",
       "      <td>447</td>\n",
       "      <td>894</td>\n",
       "      <td>03793</td>\n",
       "      <td>4795.0</td>\n",
       "    </tr>\n",
       "    <tr>\n",
       "      <th>53408</th>\n",
       "      <td>10089</td>\n",
       "      <td>160</td>\n",
       "      <td>320</td>\n",
       "      <td>04504</td>\n",
       "      <td>3180.0</td>\n",
       "    </tr>\n",
       "    <tr>\n",
       "      <th>53409</th>\n",
       "      <td>10089</td>\n",
       "      <td>160</td>\n",
       "      <td>320</td>\n",
       "      <td>04505</td>\n",
       "      <td>3180.0</td>\n",
       "    </tr>\n",
       "    <tr>\n",
       "      <th>53411</th>\n",
       "      <td>10127</td>\n",
       "      <td>554</td>\n",
       "      <td>1108</td>\n",
       "      <td>04355</td>\n",
       "      <td>3225.0</td>\n",
       "    </tr>\n",
       "    <tr>\n",
       "      <th>53430</th>\n",
       "      <td>5872</td>\n",
       "      <td>1110</td>\n",
       "      <td>1110</td>\n",
       "      <td>05116</td>\n",
       "      <td>2004.0</td>\n",
       "    </tr>\n",
       "  </tbody>\n",
       "</table>\n",
       "<p>27220 rows × 5 columns</p>\n",
       "</div>"
      ],
      "text/plain": [
       "       NestID  Length  TotalLength ItemNumber  RemainingLength\n",
       "0        7872     486         4094      01846              0.0\n",
       "1        7874     469         6000      01841              0.0\n",
       "2        7880     493         5916      01838             84.0\n",
       "3        7880     493         5916      01839             84.0\n",
       "4        7880     493         5916      01842             84.0\n",
       "...       ...     ...          ...        ...              ...\n",
       "53405    6294     447          894      03793           4795.0\n",
       "53408   10089     160          320      04504           3180.0\n",
       "53409   10089     160          320      04505           3180.0\n",
       "53411   10127     554         1108      04355           3225.0\n",
       "53430    5872    1110         1110      05116           2004.0\n",
       "\n",
       "[27220 rows x 5 columns]"
      ]
     },
     "execution_count": 20,
     "metadata": {},
     "output_type": "execute_result"
    }
   ],
   "source": [
    "df1 = df.groupby([\"ItemNumber\"])\n",
    "df1.head()"
   ]
  },
  {
   "cell_type": "code",
   "execution_count": null,
   "id": "b9cd1e21",
   "metadata": {},
   "outputs": [],
   "source": []
  },
  {
   "cell_type": "code",
   "execution_count": null,
   "id": "2608a37d",
   "metadata": {},
   "outputs": [],
   "source": []
  },
  {
   "cell_type": "code",
   "execution_count": null,
   "id": "fcb16bb3",
   "metadata": {},
   "outputs": [],
   "source": []
  },
  {
   "cell_type": "code",
   "execution_count": null,
   "id": "7edb2061",
   "metadata": {},
   "outputs": [],
   "source": []
  }
 ],
 "metadata": {
  "kernelspec": {
   "display_name": "Python 3",
   "language": "python",
   "name": "python3"
  },
  "language_info": {
   "codemirror_mode": {
    "name": "ipython",
    "version": 3
   },
   "file_extension": ".py",
   "mimetype": "text/x-python",
   "name": "python",
   "nbconvert_exporter": "python",
   "pygments_lexer": "ipython3",
   "version": "3.13.9"
  }
 },
 "nbformat": 4,
 "nbformat_minor": 5
}
